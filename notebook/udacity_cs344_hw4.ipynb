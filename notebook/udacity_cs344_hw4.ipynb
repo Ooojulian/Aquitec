{
  "nbformat": 4,
  "nbformat_minor": 0,
  "metadata": {
    "colab": {
      "name": "udacity-cs344-hw4",
      "provenance": [],
      "gpuType": "T4",
      "include_colab_link": true
    },
    "kernelspec": {
      "name": "python3",
      "display_name": "Python 3"
    },
    "accelerator": "GPU"
  },
  "cells": [
    {
      "cell_type": "markdown",
      "metadata": {
        "id": "view-in-github",
        "colab_type": "text"
      },
      "source": [
        "<a href=\"https://colab.research.google.com/github/Ooojulian/Aquitec/blob/main/notebook/udacity_cs344_hw4.ipynb\" target=\"_parent\"><img src=\"https://colab.research.google.com/assets/colab-badge.svg\" alt=\"Open In Colab\"/></a>"
      ]
    },
    {
      "metadata": {
        "id": "hse6gSyUS5ka",
        "colab": {
          "base_uri": "https://localhost:8080/"
        },
        "outputId": "f45556be-088f-40e3-e75d-797347e3a15c"
      },
      "cell_type": "code",
      "source": [
        "# Celda 1: Clonar Repositorio\n",
        "!git clone https://github.com/depctg/udacity-cs344-colab\n",
        "%cd udacity-cs344-colab\n",
        "print(\"Repositorio clonado y directorio cambiado.\")"
      ],
      "execution_count": 51,
      "outputs": [
        {
          "output_type": "stream",
          "name": "stdout",
          "text": [
            "Cloning into 'udacity-cs344-colab'...\n",
            "remote: Enumerating objects: 144, done.\u001b[K\n",
            "remote: Counting objects: 100% (24/24), done.\u001b[K\n",
            "remote: Compressing objects: 100% (12/12), done.\u001b[K\n",
            "remote: Total 144 (delta 14), reused 12 (delta 12), pack-reused 120 (from 1)\u001b[K\n",
            "Receiving objects: 100% (144/144), 3.93 MiB | 35.97 MiB/s, done.\n",
            "Resolving deltas: 100% (43/43), done.\n",
            "/content/udacity-cs344-colab/build/udacity-cs344-colab/build/build/udacity-cs344-colab\n",
            "Repositorio clonado y directorio cambiado.\n"
          ]
        }
      ]
    },
    {
      "cell_type": "code",
      "source": [
        "# Celda 2: Instalar y Cargar Plugin\n",
        "!pip install git+https://github.com/depctg/nvcc4jupyter.git\n",
        "# Configurar y cargar el plugin CUDA\n",
        "%config NVCCPluginV2.static_dir = True\n",
        "%config NVCCPluginV2.relative_dir = \"src/HW4\" # Ruta relativa desde /content/udacity-cs344-colab\n",
        "%load_ext nvcc_plugin\n",
        "print(\"Plugin instalado y cargado.\")"
      ],
      "metadata": {
        "colab": {
          "base_uri": "https://localhost:8080/"
        },
        "id": "G6ZlURCEMbWJ",
        "outputId": "357261c3-dae0-48c4-c55c-5a0b14ecbe31"
      },
      "execution_count": 52,
      "outputs": [
        {
          "output_type": "stream",
          "name": "stdout",
          "text": [
            "Collecting git+https://github.com/depctg/nvcc4jupyter.git\n",
            "  Cloning https://github.com/depctg/nvcc4jupyter.git to /tmp/pip-req-build-o3sjkscz\n",
            "  Running command git clone --filter=blob:none --quiet https://github.com/depctg/nvcc4jupyter.git /tmp/pip-req-build-o3sjkscz\n",
            "  Resolved https://github.com/depctg/nvcc4jupyter.git to commit 63b811d987446c2a3783845b7b85cda6e562b71a\n",
            "  Preparing metadata (setup.py) ... \u001b[?25l\u001b[?25hdone\n",
            "The nvcc_plugin extension is already loaded. To reload it, use:\n",
            "  %reload_ext nvcc_plugin\n",
            "Plugin instalado y cargado.\n"
          ]
        }
      ]
    },
    {
      "metadata": {
        "id": "3vA0JP15TORh",
        "colab": {
          "base_uri": "https://localhost:8080/"
        },
        "outputId": "4d291d27-a00e-43fc-97b1-fa8b1ccd7f81"
      },
      "cell_type": "code",
      "source": [
        "# Celda 3: Aplicar TODOS los Parches y Renombrado (Revisado v2)\n",
        "import os # Necesario para la comprobación de archivo\n",
        "\n",
        "print(\"--- 1. Parcheando Arquitecturas ---\")\n",
        "# Usamos punto y coma para múltiples comandos sed en una línea\n",
        "!sed -i 's/compute_30/compute_75/g; s/sm_30/sm_75/g; s/compute_35/compute_75/g; s/sm_35/sm_75/g' src/HW4/CMakeLists.txt src/CMakeLists.txt\n",
        "print(\"Arquitecturas parcheadas.\")\n",
        "# Verification\n",
        "!grep -rE 'compute_30|sm_30|compute_35|sm_35' src/ || echo \"OK: No se encontraron arquitecturas _30 o _35.\"\n",
        "\n",
        "print(\"\\n--- 2. Renombrando main.cpp a main.cu (Ignorando error si ya está hecho) ---\")\n",
        "# Intentar renombrar. Si ya es main.cu, mostrará un error 'cannot stat', pero podemos ignorarlo.\n",
        "!mv src/HW4/main.cpp src/HW4/main.cu\n",
        "print(\"Intento de renombrado completado (ignorar error 'cannot stat' si aparece).\")\n",
        "\n",
        "print(\"\\n--- 3. Actualizando referencias a main.cpp en HW4/CMakeLists.txt ---\")\n",
        "# Aplicar el reemplazo 'main.cpp' -> 'main.cu' en todo el archivo HW4/CMakeLists.txt\n",
        "!sed -i 's/main\\.cpp/main.cu/g' src/HW4/CMakeLists.txt\n",
        "print(\"Intento de actualizar referencias a main.cpp.\")\n",
        "# Verification - Buscar main.cu ahora\n",
        "print(\"Verificando si main.cu aparece en HW4/CMakeLists.txt:\")\n",
        "!grep 'main\\.cu' src/HW4/CMakeLists.txt || echo \"AVISO: main.cu no encontrado en HW4/CMakeLists.txt después del reemplazo.\"\n",
        "# Verificar que main.cpp ya no está\n",
        "print(\"Verificando si main.cpp todavía aparece en HW4/CMakeLists.txt:\")\n",
        "!grep 'main\\.cpp' src/HW4/CMakeLists.txt || echo \"OK: main.cpp no encontrado en HW4/CMakeLists.txt después del reemplazo.\"\n",
        "\n",
        "\n",
        "print(\"\\n--- 4. Añadiendo include a HW4.cu (si no existe ya) ---\")\n",
        "# Usar f-string para insertar correctamente las variables de Python en el comando bash\n",
        "INCLUDE_LINE=\"#include <thrust/host_vector.h>\"\n",
        "FILE_TO_PATCH=\"src/HW4/HW4.cu\"\n",
        "# Verificar si el archivo existe antes de intentar parchearlo\n",
        "if os.path.exists(FILE_TO_PATCH):\n",
        "    # Comando Bash: Si grep no encuentra (-q) la línea exacta (-F), entonces ejecuta sed para añadirla después de <stdio.h>\n",
        "    # Usamos f-string para sustituir las variables de Python\n",
        "    BASH_COMMAND = f\"grep -qF '{INCLUDE_LINE}' '{FILE_TO_PATCH}' || sed -i '/<stdio.h>/a {INCLUDE_LINE}' '{FILE_TO_PATCH}'\"\n",
        "    print(f\"Ejecutando comando bash para parchear {FILE_TO_PATCH}...\")\n",
        "    # Ejecutar el comando bash\n",
        "    process_result = subprocess.run(['bash', '-c', BASH_COMMAND], capture_output=True, text=True)\n",
        "    if process_result.returncode != 0:\n",
        "        print(f\"  AVISO: Comando bash falló con error: {process_result.stderr}\")\n",
        "    else:\n",
        "        print(f\"  Comando bash ejecutado.\")\n",
        "\n",
        "    print(\"  Verificación/parcheo de HW4.cu completado.\")\n",
        "    # Verification (usando grep directamente con !)\n",
        "    print(f\"  Verificando presencia de '{INCLUDE_LINE}' en {FILE_TO_PATCH}:\")\n",
        "    !grep -F \"{INCLUDE_LINE}\" \"{FILE_TO_PATCH}\" || echo \"  AVISO: Include '{INCLUDE_LINE}' no encontrado en {FILE_TO_PATCH}\"\n",
        "else:\n",
        "    print(f\"AVISO: El archivo '{FILE_TO_PATCH}' no existe, no se pudo parchear.\")\n",
        "\n",
        "# Añadir import subprocess al principio si no está (aunque no es estrictamente necesario para el !bash -c)\n",
        "import subprocess\n",
        "\n",
        "print(\"\\n=== Todos los parches aplicados ===\")"
      ],
      "execution_count": 53,
      "outputs": [
        {
          "output_type": "stream",
          "name": "stdout",
          "text": [
            "--- 1. Parcheando Arquitecturas ---\n",
            "Arquitecturas parcheadas.\n",
            "OK: No se encontraron arquitecturas _30 o _35.\n",
            "\n",
            "--- 2. Renombrando main.cpp a main.cu (Ignorando error si ya está hecho) ---\n",
            "Intento de renombrado completado (ignorar error 'cannot stat' si aparece).\n",
            "\n",
            "--- 3. Actualizando referencias a main.cpp en HW4/CMakeLists.txt ---\n",
            "Intento de actualizar referencias a main.cpp.\n",
            "Verificando si main.cu aparece en HW4/CMakeLists.txt:\n",
            "SET (HW4_files main.cu loadSaveImage.cpp reference_calc.cpp compare.cpp)\n",
            "Verificando si main.cpp todavía aparece en HW4/CMakeLists.txt:\n",
            "OK: main.cpp no encontrado en HW4/CMakeLists.txt después del reemplazo.\n",
            "\n",
            "--- 4. Añadiendo include a HW4.cu (si no existe ya) ---\n",
            "Ejecutando comando bash para parchear src/HW4/HW4.cu...\n",
            "  Comando bash ejecutado.\n",
            "  Verificación/parcheo de HW4.cu completado.\n",
            "  Verificando presencia de '#include <thrust/host_vector.h>' en src/HW4/HW4.cu:\n",
            "#include <thrust/host_vector.h>\n",
            "\n",
            "=== Todos los parches aplicados ===\n"
          ]
        }
      ]
    },
    {
      "metadata": {
        "id": "sSAnpiE2nL1T",
        "colab": {
          "base_uri": "https://localhost:8080/"
        },
        "outputId": "f098d83a-175b-43ab-ace4-35ad01abf0ba"
      },
      "cell_type": "code",
      "source": [
        "# Celda 4: Configurar CMake\n",
        "\n",
        "# Crear directorio de build (si no existe) y entrar\n",
        "!mkdir -p build\n",
        "%cd build\n",
        "# Ejecutar CMake\n",
        "print(\"\\nEjecutando CMake...\")\n",
        "!cmake ../src\n",
        "# Mensaje para verificar la salida\n",
        "print(\"\\n=== Verificación de CMake: Busca '-- Build files have been written to: ...' arriba. Si ves errores de CMake, detente. ===\")"
      ],
      "execution_count": 54,
      "outputs": [
        {
          "output_type": "stream",
          "name": "stdout",
          "text": [
            "/content/udacity-cs344-colab/build/udacity-cs344-colab/build/build/udacity-cs344-colab/build\n",
            "\n",
            "Ejecutando CMake...\n",
            "\u001b[0mCMake Deprecation Warning at CMakeLists.txt:8 (cmake_minimum_required):\n",
            "  Compatibility with CMake < 3.10 will be removed from a future version of\n",
            "  CMake.\n",
            "\n",
            "  Update the VERSION argument <min> value.  Or, use the <min>...<max> syntax\n",
            "  to tell CMake that the project requires at least <min> but has been updated\n",
            "  to work with policies introduced by <max> or earlier.\n",
            "\n",
            "\u001b[0m\n",
            "-- The C compiler identification is GNU 11.4.0\n",
            "-- The CXX compiler identification is GNU 11.4.0\n",
            "-- Detecting C compiler ABI info\n",
            "-- Detecting C compiler ABI info - done\n",
            "-- Check for working C compiler: /usr/bin/cc - skipped\n",
            "-- Detecting C compile features\n",
            "-- Detecting C compile features - done\n",
            "-- Detecting CXX compiler ABI info\n",
            "-- Detecting CXX compiler ABI info - done\n",
            "-- Check for working CXX compiler: /usr/bin/c++ - skipped\n",
            "-- Detecting CXX compile features\n",
            "-- Detecting CXX compile features - done\n",
            "-- Found OpenCV: /usr (found version \"4.5.4\")\n",
            "\u001b[33mCMake Warning (dev) at CMakeLists.txt:12 (find_package):\n",
            "  Policy CMP0146 is not set: The FindCUDA module is removed.  Run \"cmake\n",
            "  --help-policy CMP0146\" for policy details.  Use the cmake_policy command to\n",
            "  set the policy and suppress this warning.\n",
            "\n",
            "This warning is for project developers.  Use -Wno-dev to suppress it.\n",
            "\u001b[0m\n",
            "-- Performing Test CMAKE_HAVE_LIBC_PTHREAD\n",
            "-- Performing Test CMAKE_HAVE_LIBC_PTHREAD - Success\n",
            "-- Found Threads: TRUE\n",
            "-- Found CUDA: /usr/local/cuda (found version \"12.5\")\n",
            "\u001b[0mCMake Deprecation Warning at HW3/CMakeLists.txt:8 (cmake_minimum_required):\n",
            "  Compatibility with CMake < 3.10 will be removed from a future version of\n",
            "  CMake.\n",
            "\n",
            "  Update the VERSION argument <min> value.  Or, use the <min>...<max> syntax\n",
            "  to tell CMake that the project requires at least <min> but has been updated\n",
            "  to work with policies introduced by <max> or earlier.\n",
            "\n",
            "\u001b[0m\n",
            "\u001b[33mCMake Warning (dev) at HW3/CMakeLists.txt:9 (find_package):\n",
            "  Policy CMP0146 is not set: The FindCUDA module is removed.  Run \"cmake\n",
            "  --help-policy CMP0146\" for policy details.  Use the cmake_policy command to\n",
            "  set the policy and suppress this warning.\n",
            "\n",
            "This warning is for project developers.  Use -Wno-dev to suppress it.\n",
            "\u001b[0m\n",
            "-- Configuring done (1.0s)\n",
            "\u001b[0mCMake Error: Files to be generated by multiple different commands: \"/content/udacity-cs344-colab/build/udacity-cs344-colab/build/build/udacity-cs344-colab/build/HW4/CMakeFiles/HW4.dir/HW4_generated_main.cu.o.cmake\"\u001b[0m\n",
            "-- Generating done (0.2s)\n",
            "\u001b[0mCMake Generate step failed.  Build files cannot be regenerated correctly.\u001b[0m\n",
            "\n",
            "=== Verificación de CMake: Busca '-- Build files have been written to: ...' arriba. Si ves errores de CMake, detente. ===\n"
          ]
        }
      ]
    },
    {
      "metadata": {
        "id": "2cGKiWj_n-Na",
        "colab": {
          "base_uri": "https://localhost:8080/",
          "height": 35
        },
        "outputId": "ea2ea4c9-3767-4fe2-aa90-e04c59be77ff"
      },
      "cell_type": "code",
      "source": [
        "%%cuda --name student_func.cu\n",
        "\n",
        "// Udacity HW 4\n",
        "// Radix Sorting - Implementación en student_func.cu\n",
        "\n",
        "#include \"utils.h\"\n",
        "#include <cuda_runtime.h>\n",
        "#include <device_launch_parameters.h>\n",
        "#include <thrust/device_ptr.h>\n",
        "#include <thrust/scan.h>\n",
        "#include <thrust/execution_policy.h> // <--- Incluir esto\n",
        "\n",
        "// --- KERNELS Y FUNCIÓN your_sort(...) ---\n",
        "// ... (Pega tu implementación completa aquí) ...\n",
        "// Ejemplo (Asegúrate de tener tu código completo):\n",
        "__global__ void kernel_histograma(const unsigned int* d_inputVals, unsigned int* d_histograma, const size_t numElems, const int bits_inicio, const int num_bits){/*...*/}\n",
        "__global__ void kernel_reordenar(const unsigned int* d_inputVals, const unsigned int* d_inputPos, unsigned int* d_outputVals, unsigned int* d_outputPos, const unsigned int* d_offsets, unsigned int* d_output_counts, const size_t numElems, const int bits_inicio, const int num_bits){/*...*/}\n",
        "void your_sort(unsigned int* const d_inputVals, unsigned int* const d_inputPos, unsigned int* const d_outputVals, unsigned int* const d_outputPos, const size_t numElems){/* TU CÓDIGO COMPLETO AQUÍ */}"
      ],
      "execution_count": 55,
      "outputs": [
        {
          "output_type": "execute_result",
          "data": {
            "text/plain": [
              "'File written in /content/udacity-cs344-colab/src/HW4/student_func.cu'"
            ],
            "application/vnd.google.colaboratory.intrinsic+json": {
              "type": "string"
            }
          },
          "metadata": {},
          "execution_count": 55
        }
      ]
    },
    {
      "metadata": {
        "id": "E7PIZcQmuKP9",
        "colab": {
          "base_uri": "https://localhost:8080/"
        },
        "outputId": "3f3d8dab-0c3f-4b4a-f320-39faed17db77"
      },
      "cell_type": "code",
      "source": [
        "# Celda 6: Compilar y Ejecutar\n",
        "\n",
        "# Estamos dentro de /content/udacity-cs344-colab/build\n",
        "print(\"Intentando compilar con 'make HW4'...\")\n",
        "!make HW4\n",
        "\n",
        "print(\"\\nIntentando ejecutar...\")\n",
        "# Ejecutar el programa compilado si make tuvo éxito\n",
        "!bin/HW4 ../src/HW4/red_eye_effect.gold ../src/HW4/red_eye_effect_template_5.jpg\n",
        "print(\"\\n====== RESULTADO DE HW4 (busca PASSED o FAILED arriba) =======\")"
      ],
      "execution_count": 56,
      "outputs": [
        {
          "output_type": "stream",
          "name": "stdout",
          "text": [
            "Intentando compilar con 'make HW4'...\n",
            "make[3]: *** No rule to make target 'HW4/CMakeFiles/HW4.dir/HW4_generated_student_func.cu.o.cmake', needed by 'HW4/CMakeFiles/HW4.dir/HW4_generated_student_func.cu.o'.  Stop.\n",
            "make[2]: *** [CMakeFiles/Makefile2:316: HW4/CMakeFiles/HW4.dir/all] Error 2\n",
            "make[1]: *** [CMakeFiles/Makefile2:324: HW4/CMakeFiles/HW4.dir/rule] Error 2\n",
            "make: *** [Makefile:163: HW4] Error 2\n",
            "\n",
            "Intentando ejecutar...\n",
            "/bin/bash: line 1: bin/HW4: No such file or directory\n",
            "\n",
            "====== RESULTADO DE HW4 (busca PASSED o FAILED arriba) =======\n"
          ]
        }
      ]
    },
    {
      "cell_type": "code",
      "source": [
        "# Celda 7: Visualización\n",
        "\n",
        "import matplotlib.pyplot as plt\n",
        "import os\n",
        "\n",
        "# Asegurarse de estar en el directorio build para encontrar el output\n",
        "# %cd /content/udacity-cs344-colab/build # Descomentar si es necesario\n",
        "\n",
        "output_file = \"HW4_output.png\"\n",
        "input_file = \"../src/HW4/red_eye_effect_template_5.jpg\"\n",
        "\n",
        "print(f\"Buscando archivo de salida: {os.path.abspath(output_file)}\")\n",
        "print(f\"Buscando archivo de entrada: {os.path.abspath(input_file)}\")\n",
        "\n",
        "if os.path.exists(output_file) and os.path.exists(input_file):\n",
        "  _,ax = plt.subplots(1,2, dpi=150)\n",
        "  ax[0].imshow(plt.imread(input_file))\n",
        "  ax[0].set_title(\"Original\")\n",
        "  ax[0].grid(False); ax[0].axis('off')\n",
        "  ax[1].imshow(plt.imread(output_file))\n",
        "  ax[1].set_title(\"Salida (Output)\")\n",
        "  ax[1].grid(False); ax[1].axis('off')\n",
        "  plt.tight_layout(); plt.show()\n",
        "elif not os.path.exists(input_file):\n",
        "    print(f\"Error: No se encontró el archivo de ENTRADA '{input_file}'. Verifica la ruta.\")\n",
        "elif not os.path.exists(output_file):\n",
        "    print(f\"Error: No se encontró el archivo de SALIDA '{output_file}'.\")\n",
        "    print(\"Causa más probable: La Celda 6 (make / run) falló. Revisa su salida.\")\n",
        "else:\n",
        "    print(f\"Error: No se encontró el archivo de entrada '{input_file}' o el de salida '{output_file}'.\")"
      ],
      "metadata": {
        "id": "FjdEj2vQSNx5",
        "outputId": "d3b7b0e5-9de5-4588-81b7-90d2eebb4bfb",
        "colab": {
          "base_uri": "https://localhost:8080/"
        }
      },
      "execution_count": 57,
      "outputs": [
        {
          "output_type": "stream",
          "name": "stdout",
          "text": [
            "Buscando archivo de salida: /content/udacity-cs344-colab/build/udacity-cs344-colab/build/build/udacity-cs344-colab/build/HW4_output.png\n",
            "Buscando archivo de entrada: /content/udacity-cs344-colab/build/udacity-cs344-colab/build/build/udacity-cs344-colab/src/HW4/red_eye_effect_template_5.jpg\n",
            "Error: No se encontró el archivo de SALIDA 'HW4_output.png'.\n",
            "Causa más probable: La Celda 6 (make / run) falló. Revisa su salida.\n"
          ]
        }
      ]
    },
    {
      "cell_type": "code",
      "source": [
        "# Celda 4: Visualización\n",
        "\n",
        "import matplotlib.pyplot as plt\n",
        "import os # Para chequear si el archivo existe\n",
        "\n",
        "output_file = \"HW4_output.png\"\n",
        "# Asegúrate que el nombre del archivo de entrada coincide con el usado en Celda 3\n",
        "input_file = \"../src/HW4/red_eye_effect_template_5.jpg\"\n",
        "\n",
        "# Verificar si el archivo de salida existe\n",
        "if os.path.exists(output_file) and os.path.exists(input_file):\n",
        "  _,ax = plt.subplots(1,2, dpi=150)\n",
        "\n",
        "  # Mostrar imagen original\n",
        "  ax[0].imshow(plt.imread(input_file))\n",
        "  ax[0].set_title(\"Original\")\n",
        "  ax[0].grid(False)\n",
        "  ax[0].axis('off') # Ocultar ejes\n",
        "\n",
        "  # Mostrar imagen de salida\n",
        "  ax[1].imshow(plt.imread(output_file))\n",
        "  ax[1].set_title(\"Salida (Output)\")\n",
        "  ax[1].grid(False)\n",
        "  ax[1].axis('off') # Ocultar ejes\n",
        "\n",
        "  plt.tight_layout() # Ajustar espaciado\n",
        "  plt.show()\n",
        "elif not os.path.exists(input_file):\n",
        "    print(f\"Error: No se encontró el archivo de ENTRADA '{input_file}'. Verifica la ruta.\")\n",
        "elif not os.path.exists(output_file):\n",
        "    print(f\"Error: No se encontró el archivo de SALIDA '{output_file}'.\")\n",
        "    print(\"Esto usualmente significa que la Celda 3 falló (error de compilación o ejecución). Revisa la salida de la Celda 3.\")\n",
        "else:\n",
        "    print(f\"Error: No se encontró el archivo de entrada '{input_file}' o el de salida '{output_file}'.\")"
      ],
      "metadata": {
        "id": "Zd9IsoecSPd4",
        "outputId": "0d022e43-c645-4cbf-a343-67df5a9a4df7",
        "colab": {
          "base_uri": "https://localhost:8080/"
        }
      },
      "execution_count": 58,
      "outputs": [
        {
          "output_type": "stream",
          "name": "stdout",
          "text": [
            "Error: No se encontró el archivo de SALIDA 'HW4_output.png'.\n",
            "Esto usualmente significa que la Celda 3 falló (error de compilación o ejecución). Revisa la salida de la Celda 3.\n"
          ]
        }
      ]
    }
  ]
}